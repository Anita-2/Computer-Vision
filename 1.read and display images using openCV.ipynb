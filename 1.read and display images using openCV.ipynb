{
 "cells": [
  {
   "cell_type": "markdown",
   "id": "9b699c3e-0492-4c72-8330-b28fcf205954",
   "metadata": {},
   "source": [
    "## Read and display images using OpenCV library"
   ]
  },
  {
   "cell_type": "markdown",
   "id": "3424511a-7fe6-43b3-9fb9-3e9c14f3aeec",
   "metadata": {},
   "source": [
    "What is OpenCV?\n",
    "\n",
    "OpenCV is the world's biggest computer vision open-source library. \n",
    "It contains extensive suite of computer vision and image processing functions."
   ]
  },
  {
   "cell_type": "markdown",
   "id": "bc1a71b9-d517-484c-8469-51c8062289b7",
   "metadata": {},
   "source": [
    "## OpenCV installation\n",
    "anaconda prompt ->   conda install -c conda-forge opencv  \n",
    "use pip -> pip install opencv-contrib-python"
   ]
  },
  {
   "cell_type": "code",
   "execution_count": 2,
   "id": "705f4f06-f7d5-4670-a257-867a8c614e2b",
   "metadata": {},
   "outputs": [],
   "source": [
    "import cv2"
   ]
  },
  {
   "cell_type": "code",
   "execution_count": 4,
   "id": "228b7663-d948-4d2b-8e90-e9d2e2b17dc6",
   "metadata": {},
   "outputs": [],
   "source": [
    "import numpy as np "
   ]
  },
  {
   "cell_type": "code",
   "execution_count": 40,
   "id": "fe39be4b-3042-4e01-9839-5315cd846630",
   "metadata": {},
   "outputs": [],
   "source": [
    "input = cv2.imread('D:/image_examples/anitaphoto.jpg')   #syntax/ /    cv2.imread(path, flag)  cv2.imread() is used to read an image.\n",
    "#flag-how image should be read from the source\n",
    "#cv2.IMREAD_COLOR-To load the color image\n",
    "#cv2.IMREAD_GRAYSCALE-To load an image in grayscale mode\n",
    "#cv2.IMREAD_UNCHANGED-to read the Alpha Channel of an image. /"
   ]
  },
  {
   "cell_type": "code",
   "execution_count": 42,
   "id": "b543deaa-f6bb-43a9-b00a-4a804a9dbc8a",
   "metadata": {},
   "outputs": [],
   "source": [
    "cv2.imshow('Anita Photo', input)"
   ]
  },
  {
   "cell_type": "code",
   "execution_count": 10,
   "id": "afb94f72-e960-4855-88e3-9a08a6dff8fc",
   "metadata": {},
   "outputs": [],
   "source": [
    "cv2.waitKey()             #To hold the window on screen,waitKey() waits for a key press to close the window and 0 specifies indefinite loop\n",
    "cv2.destroyAllWindows()    #It is for removing/deleting created GUI window from screen and memory"
   ]
  },
  {
   "cell_type": "code",
   "execution_count": 44,
   "id": "ab54b0ad-1fb4-48ef-b2c4-e7ad39a0a1a3",
   "metadata": {},
   "outputs": [
    {
     "name": "stdout",
     "output_type": "stream",
     "text": [
      "(242, 180, 3)\n"
     ]
    }
   ],
   "source": [
    "print(input.shape)   "
   ]
  },
  {
   "cell_type": "code",
   "execution_count": 46,
   "id": "be5e6fdf-9641-4c65-be2b-d43ed6265f14",
   "metadata": {},
   "outputs": [
    {
     "name": "stdout",
     "output_type": "stream",
     "text": [
      "Height of Image: 242 pixels\n",
      "Width of Image:  180 pixels\n"
     ]
    }
   ],
   "source": [
    "print('Height of Image:', int(input.shape[0]), 'pixels')\n",
    "print('Width of Image: ', int(input.shape[1]), 'pixels')"
   ]
  },
  {
   "cell_type": "code",
   "execution_count": 48,
   "id": "7281429a-ef84-422c-8a55-0dd2c49880c5",
   "metadata": {},
   "outputs": [
    {
     "data": {
      "text/plain": [
       "True"
      ]
     },
     "execution_count": 48,
     "metadata": {},
     "output_type": "execute_result"
    }
   ],
   "source": [
    "cv2.imwrite('output.jpg', input)  #cv2.imwrite() is used to write an image.\n",
    "#cv2.imwrite('output.png', input)"
   ]
  },
  {
   "cell_type": "code",
   "execution_count": 50,
   "id": "0c1fecd4-0aae-40cc-9cfb-1e1b9dc04b8d",
   "metadata": {},
   "outputs": [
    {
     "data": {
      "text/plain": [
       "'C:\\\\Users\\\\HP'"
      ]
     },
     "execution_count": 50,
     "metadata": {},
     "output_type": "execute_result"
    }
   ],
   "source": [
    "pwd"
   ]
  },
  {
   "cell_type": "code",
   "execution_count": 52,
   "id": "86e70dc2-8b97-4d52-ac2e-3b2d0c30fdb8",
   "metadata": {},
   "outputs": [],
   "source": [
    "input = cv2.imread('D:/image_examples/anitaphoto.jpg',cv2.IMREAD_COLOR)\n",
    "#input = cv2.imread('D:/image_examples/anitaphoto.jpg',1)"
   ]
  },
  {
   "cell_type": "code",
   "execution_count": 54,
   "id": "c49edcd8-8e0b-47d6-a7fe-916998d9a71b",
   "metadata": {},
   "outputs": [],
   "source": [
    "input = cv2.imread('D:/image_examples/anitaphoto.jpg',cv2.IMREAD_GRAYSCALE)\n",
    "#input = cv2.imread('D:/image_examples/anitaphoto.jpg',0)\n"
   ]
  },
  {
   "cell_type": "code",
   "execution_count": 56,
   "id": "1670787a-6c3e-40e6-9074-a543f9c3472d",
   "metadata": {},
   "outputs": [],
   "source": [
    "cv2.imshow('Anita Photo', input)\n",
    "cv2.waitKey()            \n",
    "cv2.destroyAllWindows()  "
   ]
  },
  {
   "cell_type": "code",
   "execution_count": 58,
   "id": "622ff392-387f-41d0-995c-40abcccf8f38",
   "metadata": {},
   "outputs": [],
   "source": [
    "input = cv2.imread('D:/image_examples/anitaphoto.jpg',cv2.IMREAD_UNCHANGED)\n",
    "#input = cv2.imread('D:/image_examples/anitaphoto.jpg',-1)"
   ]
  },
  {
   "cell_type": "code",
   "execution_count": 60,
   "id": "1ece25ec-1361-42b7-8062-f412cfbcca4d",
   "metadata": {},
   "outputs": [],
   "source": [
    "cv2.imshow('Anita Photo', input)\n",
    "cv2.waitKey()            \n",
    "cv2.destroyAllWindows()  "
   ]
  },
  {
   "cell_type": "code",
   "execution_count": 70,
   "id": "a9fd8cf0-6527-41a2-8931-50e313849f24",
   "metadata": {},
   "outputs": [],
   "source": [
    "#img = cv2.cvtColor(input, cv2.COLOR_RGB2BGR)  #converting the image from one color space to another color space\n",
    "img1 = cv2.cvtColor(input, cv2.COLOR_RGB2GRAY)  "
   ]
  },
  {
   "cell_type": "code",
   "execution_count": 72,
   "id": "eadf4392-108e-4497-b66a-727bed01db44",
   "metadata": {},
   "outputs": [],
   "source": [
    "cv2.imshow('Anita Photo', img1)\n",
    "#cv2.imshow('Anita Photo', img)\n",
    "cv2.waitKey()            \n",
    "cv2.destroyAllWindows()  "
   ]
  },
  {
   "cell_type": "code",
   "execution_count": null,
   "id": "abe33229-68fe-413c-aee0-c39d05e5c2c6",
   "metadata": {},
   "outputs": [],
   "source": []
  }
 ],
 "metadata": {
  "kernelspec": {
   "display_name": "Python 3 (ipykernel)",
   "language": "python",
   "name": "python3"
  },
  "language_info": {
   "codemirror_mode": {
    "name": "ipython",
    "version": 3
   },
   "file_extension": ".py",
   "mimetype": "text/x-python",
   "name": "python",
   "nbconvert_exporter": "python",
   "pygments_lexer": "ipython3",
   "version": "3.11.7"
  }
 },
 "nbformat": 4,
 "nbformat_minor": 5
}
