{
 "cells": [
  {
   "cell_type": "markdown",
   "id": "5fee1452-dd76-4e5d-93f7-9b5cb30c2988",
   "metadata": {},
   "source": [
    "### Demonstrates how to create an RGBA image and display it"
   ]
  },
  {
   "cell_type": "raw",
   "id": "3ec0fc55-008e-4d92-ba01-54d6de2cd42d",
   "metadata": {},
   "source": [
    "RGBA images are colored RGB images with an extra channel known as “alpha” that \n",
    "depicts the opacity of the RGB image. \n",
    "Opacity ranges from a value of 0% to 100%"
   ]
  },
  {
   "cell_type": "code",
   "execution_count": 21,
   "id": "acb0375b-1b7f-4a05-9a23-833d617a54a5",
   "metadata": {},
   "outputs": [],
   "source": [
    "import cv2"
   ]
  },
  {
   "cell_type": "code",
   "execution_count": 23,
   "id": "0a191d0e-e85b-476d-9a5b-7bf76bbc40f1",
   "metadata": {},
   "outputs": [],
   "source": [
    "import numpy as np"
   ]
  },
  {
   "cell_type": "raw",
   "id": "aa51d9ab-aa0a-4bb3-ae33-526310f8075a",
   "metadata": {},
   "source": [
    "1. Create an Empty RGBA Image:"
   ]
  },
  {
   "cell_type": "code",
   "execution_count": 25,
   "id": "701a5e47-57bb-4a0b-8ef6-1b3c250a6cf8",
   "metadata": {},
   "outputs": [],
   "source": [
    "# Create an image with dimensions (height, width, 4)\n",
    "height, width = 300, 400\n",
    "rgba_image = np.zeros((height, width, 4), dtype=np.uint8)\n",
    "cv2.imshow('RGBA Image', rgba_image)\n",
    "cv2.waitKey(0)\n",
    "cv2.destroyAllWindows()\n"
   ]
  },
  {
   "cell_type": "code",
   "execution_count": 27,
   "id": "fa9b8697-3c75-4d96-8ca9-5e17901315da",
   "metadata": {},
   "outputs": [
    {
     "data": {
      "text/plain": [
       "(300, 400, 4)"
      ]
     },
     "execution_count": 27,
     "metadata": {},
     "output_type": "execute_result"
    }
   ],
   "source": [
    "rgba_image.shape"
   ]
  },
  {
   "cell_type": "raw",
   "id": "ccc68e04-1b77-409a-876b-28dbaae148d4",
   "metadata": {},
   "source": [
    "2.Define colors (B, G, R, A)"
   ]
  },
  {
   "cell_type": "code",
   "execution_count": 29,
   "id": "9744afb5-d58c-4163-8f23-f17b6bf63545",
   "metadata": {},
   "outputs": [],
   "source": [
    "#represent colors with their respective alpha values.\n",
    "blue = (255, 0, 0, 255)  # Blue with full opacity\n",
    "green = (0, 255, 0, 128)  # Green with 50% opacity\n",
    "red = (0, 0, 255, 64)  # Red with 25% opacity\n"
   ]
  },
  {
   "cell_type": "raw",
   "id": "79d189e2-9a22-4fff-afbc-3cd40332dbd5",
   "metadata": {},
   "source": [
    "3. Fill different parts of the image with different colors"
   ]
  },
  {
   "cell_type": "code",
   "execution_count": 31,
   "id": "b7b7c33e-b302-477b-9f1e-ab84b2179350",
   "metadata": {},
   "outputs": [],
   "source": [
    "rgba_image[:height//3, :] = blue       #300//3=100\n",
    "rgba_image[height//3:2*height//3, :] = green  #100-200\n",
    "rgba_image[2*height//3:, :] = red  #200-300/\n",
    "\n"
   ]
  },
  {
   "cell_type": "code",
   "execution_count": 33,
   "id": "b34c7cf9-b1b7-4ca0-bd93-b00b309276a1",
   "metadata": {},
   "outputs": [],
   "source": [
    "# Save the image to verify it has an alpha channel\n",
    "cv2.imwrite('rgba_image.png', rgba_image)\n",
    "\n",
    "# Display the image\n",
    "cv2.imshow('RGBA Image', rgba_image)\n",
    "cv2.waitKey(0)\n",
    "cv2.destroyAllWindows()"
   ]
  },
  {
   "cell_type": "raw",
   "id": "f09967dd-81e3-4b16-8904-81e93426bd96",
   "metadata": {},
   "source": [
    "Summary: creates a simple RGBA image with three horizontal bands of different colors \n",
    "and varying levels of transparency."
   ]
  },
  {
   "cell_type": "markdown",
   "id": "1dd31175-29b9-4573-a6d5-479c1e992525",
   "metadata": {},
   "source": [
    "## Extracting Alpha Channel from an Image"
   ]
  },
  {
   "cell_type": "code",
   "execution_count": 35,
   "id": "9271f060-a836-4666-81f9-2b6f0d2a89f1",
   "metadata": {},
   "outputs": [],
   "source": [
    "alpha_channel = rgba_image[:, :, 3]\n",
    "\n",
    "# Display the alpha channel\n",
    "cv2.imshow('Alpha Channel', alpha_channel)\n",
    "cv2.waitKey(0)\n",
    "cv2.destroyAllWindows()"
   ]
  },
  {
   "cell_type": "markdown",
   "id": "3d02e853-4729-475d-82c9-85da48748ed3",
   "metadata": {},
   "source": [
    "### To extract the foreground of an image using the alpha channel in OpenCV"
   ]
  },
  {
   "cell_type": "raw",
   "id": "9d06de39-6ffd-40db-a420-ef79a3bbef29",
   "metadata": {},
   "source": [
    "1. Load the image with the alpha channel./\n",
    "2. Split the image into its RGBA components.\n",
    "3. Create a mask using the alpha channel.\n",
    "4. Apply the mask to the RGB channels to extract the foreground."
   ]
  },
  {
   "cell_type": "code",
   "execution_count": 37,
   "id": "6f7ee1d3-bd32-48bc-ade1-8b6609acc9dd",
   "metadata": {},
   "outputs": [],
   "source": [
    "import cv2\n",
    "import numpy as np\n",
    "\n",
    "# Load the image with an alpha channel\n",
    "image = cv2.imread('rgba_image.png', cv2.IMREAD_UNCHANGED)\n",
    "\n",
    "# Check if the image has an alpha channel\n",
    "if image.shape[2] == 4:\n",
    "    # Split the image into its RGBA components/\n",
    "    b, g, r, a = cv2.split(image)\n",
    "\n",
    "    # Create a mask using the alpha channel\n",
    "    mask = a\n",
    "\n",
    "    # Create a 3-channel version of the alpha mask\n",
    "    alpha_rgb = cv2.merge([mask, mask, mask])\n",
    "\n",
    "    # Apply the mask to the RGB channels\n",
    "    foreground = cv2.bitwise_and(image[:, :, :3], alpha_rgb)\n",
    "\n",
    "    # Display the original image and the extracted foreground\n",
    "    cv2.imshow('Original Image', image)\n",
    "    cv2.imshow('Foreground', foreground)\n",
    "    cv2.waitKey(0)\n",
    "    cv2.destroyAllWindows()\n",
    "else:\n",
    "    print(\"The image does not have an alpha channel.\")"
   ]
  },
  {
   "cell_type": "code",
   "execution_count": null,
   "id": "ae9bffe6-660d-4263-8c75-d537a7a7685b",
   "metadata": {},
   "outputs": [],
   "source": []
  },
  {
   "cell_type": "code",
   "execution_count": null,
   "id": "9695d1c0-e2c8-42e4-ae10-d55a8253eb13",
   "metadata": {},
   "outputs": [],
   "source": []
  },
  {
   "cell_type": "code",
   "execution_count": null,
   "id": "3c50429b-77aa-444e-b604-2a53f298a73c",
   "metadata": {},
   "outputs": [],
   "source": []
  },
  {
   "cell_type": "code",
   "execution_count": null,
   "id": "493cd478-03a6-4f24-be10-868b0ffd3f62",
   "metadata": {},
   "outputs": [],
   "source": []
  },
  {
   "cell_type": "code",
   "execution_count": null,
   "id": "cc012543-8238-46e0-815e-d56ad72dfb6f",
   "metadata": {},
   "outputs": [],
   "source": []
  },
  {
   "cell_type": "code",
   "execution_count": null,
   "id": "4983c88f-ef46-4996-a1c7-1db635fdaaee",
   "metadata": {},
   "outputs": [],
   "source": []
  },
  {
   "cell_type": "code",
   "execution_count": null,
   "id": "e38f79e2-5655-4f5e-9657-affe3e8f9bd0",
   "metadata": {},
   "outputs": [],
   "source": []
  }
 ],
 "metadata": {
  "kernelspec": {
   "display_name": "Python 3 (ipykernel)",
   "language": "python",
   "name": "python3"
  },
  "language_info": {
   "codemirror_mode": {
    "name": "ipython",
    "version": 3
   },
   "file_extension": ".py",
   "mimetype": "text/x-python",
   "name": "python",
   "nbconvert_exporter": "python",
   "pygments_lexer": "ipython3",
   "version": "3.11.7"
  }
 },
 "nbformat": 4,
 "nbformat_minor": 5
}
