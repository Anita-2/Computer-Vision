{
 "cells": [
  {
   "cell_type": "markdown",
   "id": "b0dadcba-d619-4944-a2db-84e899939120",
   "metadata": {},
   "source": [
    "## Basic Operation On images part-1"
   ]
  },
  {
   "cell_type": "markdown",
   "id": "09882e9f-524e-4567-9805-63a08f8f4a50",
   "metadata": {},
   "source": [
    "1. Access pixel values and modify them\n",
    "2. Access image properties\n",
    "3. Set a Region of Interest (ROI)\n",
    "4. Split and merge image channels"
   ]
  },
  {
   "cell_type": "code",
   "execution_count": 1,
   "id": "0b55a567-3bd1-43cb-a4a0-707f239d7f9f",
   "metadata": {},
   "outputs": [],
   "source": [
    "import cv2"
   ]
  },
  {
   "cell_type": "code",
   "execution_count": 3,
   "id": "706a577c-1286-4d9b-a4ad-aa532bbf00bd",
   "metadata": {},
   "outputs": [],
   "source": [
    "import numpy as np"
   ]
  },
  {
   "cell_type": "code",
   "execution_count": 15,
   "id": "e1505080-1348-46eb-ad56-1e420fe09627",
   "metadata": {},
   "outputs": [],
   "source": [
    "img = cv2.imread('D:/image_examples/anitaphoto.jpg') \n",
    "cv2.imshow('Original Image', img)\n",
    "cv2.waitKey(0)\n",
    "cv2.destroyAllWindows()"
   ]
  },
  {
   "cell_type": "markdown",
   "id": "4fca4ef6-8010-47ee-9d71-52c1a2fff406",
   "metadata": {},
   "source": [
    "#### 1. Access pixel values and modify them"
   ]
  },
  {
   "cell_type": "code",
   "execution_count": 17,
   "id": "88508d1a-8223-4302-98cd-7b3b927b05c8",
   "metadata": {},
   "outputs": [
    {
     "name": "stdout",
     "output_type": "stream",
     "text": [
      "[106 124 165]\n"
     ]
    }
   ],
   "source": [
    "px = img[100,100]   ## this is pixel of 100th row and 100th column\n",
    "print( px )       "
   ]
  },
  {
   "cell_type": "markdown",
   "id": "66502be8-7aa8-46fc-b8e8-b200e60be451",
   "metadata": {},
   "source": [
    "OpenCV stores the color image as BGR color image,so the first value in the list is the value of the blue channel of this particular pixel, and the rest are values for green and red channels."
   ]
  },
  {
   "cell_type": "code",
   "execution_count": 19,
   "id": "5bb4b866-9ddb-4eb5-857b-7809ed176b75",
   "metadata": {},
   "outputs": [
    {
     "name": "stdout",
     "output_type": "stream",
     "text": [
      "pixel value blue channel at [100,100]: 106\n"
     ]
    }
   ],
   "source": [
    "# accessing only blue pixel      \n",
    "#blue = img[100,100,0]  \n",
    "print(\"pixel value blue channel at [100,100]:\", img[100,100][0])   #we access the pixel value at a point in the input image.\n",
    "#print( blue )"
   ]
  },
  {
   "cell_type": "code",
   "execution_count": 21,
   "id": "87b25150-21c6-4a8c-ba3e-5d9cfcbc8fb5",
   "metadata": {},
   "outputs": [
    {
     "name": "stdout",
     "output_type": "stream",
     "text": [
      "165\n"
     ]
    }
   ],
   "source": [
    "# accessing only red pixel\n",
    "red = img[100,100,2]\n",
    "print( red )"
   ]
  },
  {
   "cell_type": "markdown",
   "id": "e11ae079-5535-48f7-8203-e17ff075d8b1",
   "metadata": {},
   "source": [
    "To modify the values, we just need to access the pixel and then overwrite it with a value "
   ]
  },
  {
   "cell_type": "markdown",
   "id": "d354130f-7fc9-4fe2-b0e2-8ad1d8215ccd",
   "metadata": {},
   "source": [
    "To access a single pixel use indexing and to modify a single pixel value use assignment to indexing."
   ]
  },
  {
   "cell_type": "code",
   "execution_count": 27,
   "id": "b767c350-c0ae-4a42-9858-c6939a1a7681",
   "metadata": {},
   "outputs": [
    {
     "name": "stdout",
     "output_type": "stream",
     "text": [
      "[150   0   0]\n"
     ]
    }
   ],
   "source": [
    "img[100,100] = [150,0,0]\n",
    "print( img[100,100] )\n",
    "cv2.imshow('Modified Image', img)\n",
    "cv2.waitKey(0)\n",
    "cv2.destroyAllWindows()"
   ]
  },
  {
   "cell_type": "markdown",
   "id": "d1694b12-c319-4d19-a4b7-357e138f80f0",
   "metadata": {},
   "source": [
    "To access a sequence of pixels use slicing and to modify these pixel values use assignment to slicing. \n",
    "to modify the pixel values at [100:150,150:200] to red color"
   ]
  },
  {
   "cell_type": "code",
   "execution_count": 29,
   "id": "a596d127-ab62-4ad6-9766-dc88b83c3dc3",
   "metadata": {},
   "outputs": [],
   "source": [
    "img[100:150,150:200] = (0, 0, 255)    #to modify the pixel value at [100,150] to red color\n",
    "cv2.imshow('Modified Image', img)\n",
    "cv2.waitKey(0)\n",
    "cv2.destroyAllWindows()"
   ]
  },
  {
   "cell_type": "markdown",
   "id": "3b2956ff-5275-4b39-ba5c-a8b563a6b783",
   "metadata": {},
   "source": [
    "For accessing individual pixel values, the Numpy array methods, array.item() and array.itemset() are considered better as  they always return a scalar."
   ]
  },
  {
   "cell_type": "code",
   "execution_count": 31,
   "id": "c0952976-dd47-4019-aa1f-9cebfe76a6e3",
   "metadata": {},
   "outputs": [
    {
     "data": {
      "text/plain": [
       "100"
      ]
     },
     "execution_count": 31,
     "metadata": {},
     "output_type": "execute_result"
    }
   ],
   "source": [
    "# accessing GREEN value\n",
    "img.item(10,10,1)\n",
    "# modifying RED value\n",
    "img.itemset((10,10,1),100)\n",
    "img.item(10,10,1)\n"
   ]
  },
  {
   "cell_type": "markdown",
   "id": "ef465ab5-6be5-4825-a5f5-501c0c3f76cf",
   "metadata": {},
   "source": [
    "### 2. Access Image properties"
   ]
  },
  {
   "cell_type": "markdown",
   "id": "dfeb6da6-2819-4e4f-9d3b-906f3fa5f830",
   "metadata": {},
   "source": [
    "to know the size(total number of pixels in the image), number of rows, columns, and channels."
   ]
  },
  {
   "cell_type": "code",
   "execution_count": 33,
   "id": "c04559c8-8006-451f-8fbf-a63240449bb4",
   "metadata": {},
   "outputs": [
    {
     "name": "stdout",
     "output_type": "stream",
     "text": [
      "(242, 180, 3)\n",
      "130680\n"
     ]
    }
   ],
   "source": [
    "print( img.shape )  ## shape prints the tuple (height,weight,channels) \n",
    "print( img.size )\n"
   ]
  },
  {
   "cell_type": "code",
   "execution_count": 35,
   "id": "8d326b9b-ed7d-4403-a11a-588cc2a8c151",
   "metadata": {},
   "outputs": [],
   "source": [
    "\n",
    "input = cv2.imread('D:/image_examples/anitaphoto.jpg',cv2.IMREAD_GRAYSCALE)\n"
   ]
  },
  {
   "cell_type": "code",
   "execution_count": 37,
   "id": "3b3f585c-d471-400f-ac87-3066db3c2c20",
   "metadata": {},
   "outputs": [
    {
     "name": "stdout",
     "output_type": "stream",
     "text": [
      "(242, 180)\n",
      "130680\n"
     ]
    }
   ],
   "source": [
    "#an image is grayscale, the tuple returned contains only the number of rows and columns.\n",
    "print(input.shape)\n",
    "print(img.size)"
   ]
  },
  {
   "cell_type": "code",
   "execution_count": 39,
   "id": "0f1f0e5b-fef6-4ad1-9f56-9575e4f16b21",
   "metadata": {},
   "outputs": [
    {
     "name": "stdout",
     "output_type": "stream",
     "text": [
      "uint8\n"
     ]
    }
   ],
   "source": [
    "print( img.dtype )   #knowing the image datatype is very important while debugging."
   ]
  },
  {
   "cell_type": "markdown",
   "id": "d50b6b01-2e67-492c-a1c6-0b7de8237b95",
   "metadata": {},
   "source": [
    "### 3. Set a Region of Interest (ROI)"
   ]
  },
  {
   "cell_type": "markdown",
   "id": "5f2353f0-e63d-492c-8ec5-29c735fc2c91",
   "metadata": {},
   "source": [
    "### 4. Splitting and Merging Image Channels"
   ]
  },
  {
   "cell_type": "code",
   "execution_count": 43,
   "id": "69f78941-94d0-4fdb-bad6-8af166d79625",
   "metadata": {},
   "outputs": [],
   "source": [
    "input1 = cv2.imread('D:/image_examples/elephant.jpg')\n",
    "b,g,r = cv2.split(input1)    #cv2.split() is used to split coloured/multi-channel image into separate single-channel images. \n"
   ]
  },
  {
   "cell_type": "code",
   "execution_count": 45,
   "id": "211863a4-212e-4d8b-b8af-8834cc268b7f",
   "metadata": {},
   "outputs": [],
   "source": [
    "cv2.imshow('Anita Photo', input1)\n",
    "cv2.waitKey()            \n",
    "cv2.destroyAllWindows()  "
   ]
  },
  {
   "cell_type": "code",
   "execution_count": 47,
   "id": "a86291dc-9dbb-4ad3-9f8e-932383aa2ab2",
   "metadata": {},
   "outputs": [],
   "source": [
    "cv2.imshow(\"Model Blue Image\", b) \n",
    "cv2.waitKey()            \n",
    "cv2.destroyAllWindows()  "
   ]
  },
  {
   "cell_type": "code",
   "execution_count": 49,
   "id": "b5a5c9e6-31b1-49eb-a285-b4ab22cc0fa0",
   "metadata": {},
   "outputs": [],
   "source": [
    "cv2.imshow(\"Model Green Image\", g) \n",
    "cv2.waitKey()            \n",
    "cv2.destroyAllWindows()  "
   ]
  },
  {
   "cell_type": "code",
   "execution_count": 51,
   "id": "57648524-56d4-47df-859d-247cba4bcff7",
   "metadata": {},
   "outputs": [],
   "source": [
    "cv2.imshow(\"Model Red Image\", r) \n",
    "cv2.waitKey()            \n",
    "cv2.destroyAllWindows()  "
   ]
  },
  {
   "cell_type": "markdown",
   "id": "11aa172c-e85c-4692-b951-e5796b8e6191",
   "metadata": {},
   "source": [
    "cv2.merge() is used to merge several single-channel images into a colored/multi-channel image."
   ]
  },
  {
   "cell_type": "code",
   "execution_count": 53,
   "id": "e31219d6-2c72-48e5-8ec8-5c4f8b290f38",
   "metadata": {},
   "outputs": [
    {
     "data": {
      "text/plain": [
       "-1"
      ]
     },
     "execution_count": 53,
     "metadata": {},
     "output_type": "execute_result"
    }
   ],
   "source": [
    "# into a coloured/multi-channeled image \n",
    "image_merge = cv2.merge([r, g, b]) \n",
    "  \n",
    "# Displaying Merged RGB image \n",
    "cv2.imshow(\"RGB_Image\", image_merge) \n",
    "  \n",
    "# Waits for user to press any key \n",
    "cv2.waitKey(0) "
   ]
  },
  {
   "cell_type": "markdown",
   "id": "67f97317-7f28-4a69-878f-ff19e11f4c66",
   "metadata": {},
   "source": [
    "## Basic Operation On images part-2"
   ]
  },
  {
   "cell_type": "markdown",
   "id": "f8db121a-d4bc-4b74-989c-3052013a65c8",
   "metadata": {},
   "source": [
    "1. resize an image\n",
    "2. crop an image Section\n",
    "3. Image Rotation\n",
    "4. copy a Region to another in an image"
   ]
  },
  {
   "cell_type": "markdown",
   "id": "b9f9695f-822c-4e4f-bb9a-12a85450f5f3",
   "metadata": {},
   "source": [
    "## Image Resizing "
   ]
  },
  {
   "cell_type": "markdown",
   "id": "82f60395-1e0f-49ea-992f-f0c62a7ec65c",
   "metadata": {},
   "source": [
    ". Resize Function Syntax: \n",
    "\n",
    ". resize(src,size,fx,fy,interpolation)  \n",
    "- src: It is the required input image\n",
    "- size: desired size for the output image after resizing (required)\n",
    "- fx: Scale factor along the horizontal axis.\n",
    "- fy: Scale factor along the vertical axis.\n",
    "- interpolation: It gives us the option of different methods of resizing the image.      rhood"
   ]
  },
  {
   "cell_type": "markdown",
   "id": "45b82d30-a76b-4839-b69d-ca1b75d4802f",
   "metadata": {},
   "source": [
    "-Interpolation(optional) – This flag uses following methods:\n",
    "  \n",
    "          -INTER_NEAREST – a nearest-neighbor interpolation\n",
    "  \n",
    "          -INTER_LINEAR – a bilinear interpolation (used by default)\n",
    "  \n",
    "          -INTER_AREA – resampling using pixel area relation.\n",
    "  \n",
    "          -INTER_CUBIC – a bicubic interpolation over 4×4 pixel neighborhood\n",
    "  \n",
    "          -INTER_LANCZOS4 – a Lanczos interpolation over 8×8 pixel neighborhood"
   ]
  },
  {
   "cell_type": "code",
   "execution_count": 1,
   "id": "3b00333a-bbcb-4989-989b-50afbba608d6",
   "metadata": {},
   "outputs": [],
   "source": [
    "import cv2\n",
    "import numpy as np"
   ]
  },
  {
   "cell_type": "code",
   "execution_count": 3,
   "id": "9566755d-ee74-4993-ba32-5935bebab491",
   "metadata": {},
   "outputs": [],
   "source": [
    "image = cv2.imread('D:/image_examples/dog.jpg')\n",
    "cv2.imshow('Original Image', image)\n",
    "cv2.waitKey()\n",
    "cv2.destroyAllWindows()\n"
   ]
  },
  {
   "cell_type": "code",
   "execution_count": 5,
   "id": "6f093e45-6b60-4414-a75b-cbc3b4011762",
   "metadata": {},
   "outputs": [
    {
     "name": "stdout",
     "output_type": "stream",
     "text": [
      "(640, 427, 3)\n"
     ]
    }
   ],
   "source": [
    "print(image.shape)"
   ]
  },
  {
   "cell_type": "markdown",
   "id": "8ef98101-d54b-41af-a7cd-a36c876ad87e",
   "metadata": {},
   "source": [
    "***Resize by specifying Width and Height***"
   ]
  },
  {
   "cell_type": "code",
   "execution_count": 7,
   "id": "3c52325f-2474-4a6c-b2f0-6c6fe08d28ea",
   "metadata": {},
   "outputs": [],
   "source": [
    "# let's downscale the image using new  width and height\n",
    "down_width = 300\n",
    "down_height = 200\n",
    "down_points = (down_width, down_height)\n",
    "resized_down_img= cv2.resize(image, down_points, interpolation= cv2.INTER_CUBIC)\n",
    " \n",
    "# Display images\n",
    "cv2.imshow('Resized Down image by defining height and width', resized_down_img)\n",
    "cv2.waitKey()\n",
    " \n",
    "#press any key to close the windows\n",
    "cv2.destroyAllWindows()"
   ]
  },
  {
   "cell_type": "code",
   "execution_count": 25,
   "id": "2f8d3480-7dba-4fe7-8c48-2d63d8ddfce0",
   "metadata": {},
   "outputs": [],
   "source": [
    "\n",
    "image = cv2.imread('D:/image_examples/dog.jpg')\n",
    "cv2.imshow('Original Image', image)\n",
    "# let's upscale the image using new  width and height\n",
    "up_width = 640\n",
    "up_height = 427\n",
    "up_points = (up_width, up_height)\n",
    "resized_up_img = cv2.resize(image, up_points,0,0, interpolation= cv2.INTER_CUBIC)\n",
    " \n",
    "# Display images\n",
    "cv2.imshow('Resized Up image by defining height and width', resized_up_img)\n",
    "cv2.waitKey()\n",
    " \n",
    "#press any key to close the windows\n",
    "cv2.destroyAllWindows()"
   ]
  },
  {
   "cell_type": "markdown",
   "id": "220618d3-b6a9-4a21-a351-7d37f9bff900",
   "metadata": {},
   "source": [
    "***Resizing with scaling factor***"
   ]
  },
  {
   "cell_type": "code",
   "execution_count": 9,
   "id": "7c7fad29-0235-4f3f-a145-dd99ce189240",
   "metadata": {},
   "outputs": [
    {
     "data": {
      "text/plain": [
       "-1"
      ]
     },
     "execution_count": 9,
     "metadata": {},
     "output_type": "execute_result"
    }
   ],
   "source": [
    "# Scaling Down the image 0.6 times specifying a single scale factor.\n",
    "scale_down = 0.6\n",
    "scaled_f_down = cv2.resize(image, None, fx= scale_down, fy= scale_down, interpolation= cv2.INTER_LINEAR)\n",
    "# Display images and press any key to check next image\n",
    "cv2.imshow('Resized Down by defining scaling factor', scaled_f_down)\n",
    "cv2.waitKey()"
   ]
  },
  {
   "cell_type": "code",
   "execution_count": 15,
   "id": "bfda7cdf-8be0-4843-88ab-4f9c10e0cfc1",
   "metadata": {},
   "outputs": [
    {
     "data": {
      "text/plain": [
       "-1"
      ]
     },
     "execution_count": 15,
     "metadata": {},
     "output_type": "execute_result"
    }
   ],
   "source": [
    "# Scaling Up the image 1.2 times by specifying both scaling factors\n",
    "scale_up_x = 1.2\n",
    "scale_up_y = 1.2\n",
    "#scaled_f_up = cv2.resize(image, None, fx= scale_up_x, fy= scale_up_y, interpolation= cv2.INTER_LINEAR)\n",
    "scaled_f_up = cv2.resize(image, None, fx=1.2, fy=1.2, interpolation= cv2.INTER_LINEAR)\n",
    "cv2.imshow('Resized Up image by defining scaling factor', scaled_f_up)\n",
    "cv2.waitKey()"
   ]
  },
  {
   "cell_type": "markdown",
   "id": "d2e9da13-14df-44be-8489-b630a4afa6a5",
   "metadata": {},
   "source": [
    "***Resizing With Different Interpolation Methods***"
   ]
  },
  {
   "cell_type": "code",
   "execution_count": 17,
   "id": "b4cd6c38-54a2-42e1-be45-890328c42ea1",
   "metadata": {},
   "outputs": [
    {
     "data": {
      "text/plain": [
       "-1"
      ]
     },
     "execution_count": 17,
     "metadata": {},
     "output_type": "execute_result"
    }
   ],
   "source": [
    "# Scaling Down the image 0.6 times using different Interpolation Method\n",
    "res_inter_nearest = cv2.resize(image, None, fx= scale_down, fy= scale_down, interpolation= cv2.INTER_NEAREST)\n",
    "cv2.imshow('Image with inter nearest interpolation', res_inter_nearest)\n",
    "cv2.waitKey()"
   ]
  },
  {
   "cell_type": "code",
   "execution_count": 19,
   "id": "1ba21ac0-9bcd-4e9e-ab7c-97d8678da340",
   "metadata": {},
   "outputs": [
    {
     "data": {
      "text/plain": [
       "-1"
      ]
     },
     "execution_count": 19,
     "metadata": {},
     "output_type": "execute_result"
    }
   ],
   "source": [
    "res_inter_linear = cv2.resize(image, None, fx= scale_down, fy= scale_down, interpolation= cv2.INTER_LINEAR)\n",
    "cv2.imshow('Image with inter linear interpolation', res_inter_linear)\n",
    "cv2.waitKey()"
   ]
  },
  {
   "cell_type": "code",
   "execution_count": 21,
   "id": "61d08e5c-d97e-48c7-808a-772b8984534d",
   "metadata": {},
   "outputs": [
    {
     "data": {
      "text/plain": [
       "-1"
      ]
     },
     "execution_count": 21,
     "metadata": {},
     "output_type": "execute_result"
    }
   ],
   "source": [
    "res_inter_area = cv2.resize(image, None, fx= scale_down, fy= scale_down, interpolation= cv2.INTER_AREA)\n",
    "cv2.imshow('Image with inter area interpolation', res_inter_area)\n",
    "cv2.waitKey()"
   ]
  },
  {
   "cell_type": "markdown",
   "id": "39032f8f-1658-4490-b5d5-e8ec738bd24a",
   "metadata": {},
   "source": [
    "***Concatenate Images***"
   ]
  },
  {
   "cell_type": "code",
   "execution_count": 23,
   "id": "ec2da228-1a47-4a7a-9717-f8a8b56c9dee",
   "metadata": {},
   "outputs": [
    {
     "data": {
      "text/plain": [
       "-1"
      ]
     },
     "execution_count": 23,
     "metadata": {},
     "output_type": "execute_result"
    }
   ],
   "source": [
    "# Concatenate images in horizontal axis for comparison\n",
    "vertical= np.concatenate((res_inter_nearest, res_inter_linear, res_inter_area), axis = 0)\n",
    "# Display the image Press any key to continue\n",
    "cv2.imshow('Inter Nearest :: Inter Linear :: Inter Area', vertical)\n",
    "cv2.imwrite('output.jpg', vertical)\n",
    "cv2.waitKey()"
   ]
  },
  {
   "cell_type": "code",
   "execution_count": 25,
   "id": "e87f505e-523f-4005-9056-f9ae106d65ec",
   "metadata": {},
   "outputs": [
    {
     "data": {
      "text/plain": [
       "'C:\\\\Users\\\\HP'"
      ]
     },
     "execution_count": 25,
     "metadata": {},
     "output_type": "execute_result"
    }
   ],
   "source": [
    "pwd"
   ]
  },
  {
   "cell_type": "raw",
   "id": "e5c4c0c4-9420-4492-8070-aa27237660d9",
   "metadata": {},
   "source": [
    "Output image is in path 'C:\\\\Users\\\\HP'"
   ]
  },
  {
   "cell_type": "markdown",
   "id": "4043e5c2-129c-4d83-a7fb-b24268c80125",
   "metadata": {},
   "source": [
    "## Cropping an Image"
   ]
  },
  {
   "cell_type": "code",
   "execution_count": 27,
   "id": "f0392fe7-3621-4fbd-94cf-04e0ab9d1b57",
   "metadata": {},
   "outputs": [
    {
     "name": "stdout",
     "output_type": "stream",
     "text": [
      "(640, 427, 3)\n"
     ]
    }
   ],
   "source": [
    "import cv2\n",
    "import numpy as np\n",
    " \n",
    "input1 = cv2.imread('D:/image_examples/dog.jpg')\n",
    "print(input1.shape) # Print image shape\n",
    "cv2.imshow(\"original\", input1)\n",
    "cv2.waitKey(0)\n",
    "cv2.destroyAllWindows() \n"
   ]
  },
  {
   "cell_type": "code",
   "execution_count": 29,
   "id": "48a99d08-845b-4ef6-8d59-d095b0c34359",
   "metadata": {},
   "outputs": [],
   "source": [
    "# Cropping an image\n",
    "cropped_image = input1[80:280, 150:330]\n",
    " \n",
    "# Display cropped image\n",
    "cv2.imshow(\"cropped\", cropped_image)\n",
    " \n",
    "# Save the cropped image\n",
    "cv2.imwrite(\"Cropped Image.jpg\", cropped_image)\n",
    " \n",
    "cv2.waitKey(0)\n",
    "cv2.destroyAllWindows()"
   ]
  },
  {
   "cell_type": "markdown",
   "id": "fd926fc1-7e7a-4ef3-b12c-37149a493bf4",
   "metadata": {},
   "source": [
    "## Image Rotation\n"
   ]
  },
  {
   "cell_type": "code",
   "execution_count": 31,
   "id": "69b819c1-f954-4235-88ac-ab1d375a29f9",
   "metadata": {},
   "outputs": [],
   "source": [
    "image = cv2.rotate(input1, cv2.ROTATE_90_COUNTERCLOCKWISE) \n",
    "cv2.imshow(\"Rotated\",image)\n",
    "cv2.waitKey()\n",
    "cv2.destroyAllWindows()"
   ]
  },
  {
   "cell_type": "markdown",
   "id": "0f48911e-c25e-4598-baa8-bf818d50c05f",
   "metadata": {},
   "source": [
    "## copy a Region to another in an image"
   ]
  },
  {
   "cell_type": "code",
   "execution_count": 33,
   "id": "cb6b4056-c197-4361-90f4-47b68a29664c",
   "metadata": {},
   "outputs": [],
   "source": [
    "input1 = cv2.imread('D:/image_examples/messi5.jpg')   \n",
    "# Define the region to copy (top left corner and bottom right corner)\n",
    "start_row, start_col = 260, 270\n",
    "end_row, end_col = 310, 350\n",
    "\n",
    "# Copy the region\n",
    "region = input1[start_row:end_row, start_col:end_col]\n",
    "\n",
    "# Paste the region to a new location\n",
    "input1[10:60, 30:110] = region\n",
    "\n",
    "# Save and display the image\n",
    "#cv2.imwrite('output.jpg', input1)\n",
    "cv2.imshow('Updated Image', input1)\n",
    "cv2.waitKey(0)\n",
    "cv2.destroyAllWindows()"
   ]
  },
  {
   "cell_type": "markdown",
   "id": "dc9c2ede-d52c-46b2-9d66-637f37e930a4",
   "metadata": {},
   "source": [
    "## create new images"
   ]
  },
  {
   "cell_type": "code",
   "execution_count": 53,
   "id": "40e86344-5969-4dcb-b7f6-65d65f20f29d",
   "metadata": {},
   "outputs": [],
   "source": [
    "blank_img = np.zeros(shape=(512,512,3), dtype=np.int16)"
   ]
  },
  {
   "cell_type": "code",
   "execution_count": 55,
   "id": "71dbe0fc-659c-4f6e-a49a-9db1e1b8b64a",
   "metadata": {},
   "outputs": [
    {
     "data": {
      "text/plain": [
       "(512, 512, 3)"
      ]
     },
     "execution_count": 55,
     "metadata": {},
     "output_type": "execute_result"
    }
   ],
   "source": [
    "blank_img.shape"
   ]
  },
  {
   "cell_type": "code",
   "execution_count": 57,
   "id": "98b18709-ae64-4857-9184-ee280a47bbd4",
   "metadata": {},
   "outputs": [],
   "source": [
    "import matplotlib.pyplot as plt\n",
    "%matplotlib inline"
   ]
  },
  {
   "cell_type": "code",
   "execution_count": 58,
   "id": "cccf91bc-78e4-4bc4-8482-3339ce4a5d57",
   "metadata": {},
   "outputs": [
    {
     "data": {
      "text/plain": [
       "<matplotlib.image.AxesImage at 0x1dc85a89bd0>"
      ]
     },
     "execution_count": 58,
     "metadata": {},
     "output_type": "execute_result"
    },
    {
     "data": {
      "image/png": "[encoded data removed]",
      "text/plain": [
       "<Figure size 640x480 with 1 Axes>"
      ]
     },
     "metadata": {},
     "output_type": "display_data"
    }
   ],
   "source": [
    "plt.imshow(blank_img)"
   ]
  },
  {
   "cell_type": "code",
   "execution_count": 61,
   "id": "4ee2fdd0-4a92-42c2-8126-45fc543019b8",
   "metadata": {},
   "outputs": [
    {
     "data": {
      "text/plain": [
       "<matplotlib.image.AxesImage at 0x1dc862c6310>"
      ]
     },
     "execution_count": 61,
     "metadata": {},
     "output_type": "execute_result"
    },
    {
     "data": {
      "image/png": "[encoded data removed]",
      "text/plain": [
       "<Figure size 640x480 with 1 Axes>"
      ]
     },
     "metadata": {},
     "output_type": "display_data"
    }
   ],
   "source": [
    "cv2.rectangle(blank_img, pt1=(100,100), pt2=(400,400), color=(255,0,0), thickness=5);\n",
    "plt.imshow(blank_img)"
   ]
  },
  {
   "cell_type": "code",
   "execution_count": 63,
   "id": "1e88e604-d5e5-4798-b15f-6d780bd7d126",
   "metadata": {},
   "outputs": [
    {
     "data": {
      "text/plain": [
       "<matplotlib.image.AxesImage at 0x1dc86323750>"
      ]
     },
     "execution_count": 63,
     "metadata": {},
     "output_type": "execute_result"
    },
    {
     "data": {
      "image/png": "[encoded data removed]",
      "text/plain": [
       "<Figure size 640x480 with 1 Axes>"
      ]
     },
     "metadata": {},
     "output_type": "display_data"
    }
   ],
   "source": [
    "cv2.circle(blank_img, center=(250,250), radius=220, color=(0,255,0), thickness=1);\n",
    "plt.imshow(blank_img)"
   ]
  },
  {
   "cell_type": "code",
   "execution_count": 65,
   "id": "ab56e153-bc06-4a31-8ae3-bfc0b88b8487",
   "metadata": {},
   "outputs": [
    {
     "data": {
      "text/plain": [
       "True"
      ]
     },
     "execution_count": 65,
     "metadata": {},
     "output_type": "execute_result"
    }
   ],
   "source": [
    "cv2.imwrite('sample.jpg', blank_img)"
   ]
  },
  {
   "cell_type": "markdown",
   "id": "3677dd50-6eb8-4da2-8972-ce58af715023",
   "metadata": {},
   "source": [
    "## Basic Mathematical Operations"
   ]
  },
  {
   "cell_type": "markdown",
   "id": "3f2ef674-4b03-4284-9243-f5b9e9bba888",
   "metadata": {},
   "source": [
    "### 1. Addition of Images"
   ]
  },
  {
   "cell_type": "code",
   "execution_count": null,
   "id": "0fbfc905-ce86-4efd-bfa9-505a2f7317b7",
   "metadata": {},
   "outputs": [],
   "source": [
    "cv2.add() or the straightforward numpy operation addition = image1 + image2 \n",
    "can be used to combine two images. Both images should be of the same depth and type, \n",
    "otherwise, the second image can simply be a scalar number.\n",
    "But, adding the pixels is not optimal. As a result, we employ the cv2.addweighted() function."
   ]
  },
  {
   "cell_type": "code",
   "execution_count": 55,
   "id": "1f8ec727-563e-4781-9c5e-0fd51a8b18bd",
   "metadata": {},
   "outputs": [],
   "source": [
    "img1 = cv2.imread('D:/image_examples/milky-way-5295160_640.jpg') \n",
    "img2=cv2.imread('D:/image_examples/sun-1837376_640.png')\n",
    "img1 = cv2.resize(img1, (512, 512))\n",
    "img2 = cv2.resize(img2, (512 ,512))\n",
    "\n",
    "added_image = cv2.addWeighted(img1, 0.5,img2, 0.5, 0)\n",
    "cv2.imshow('original first image', img1)\n",
    "cv2.imshow('original second image', img2)\n",
    "cv2.imshow('Added Image', added_image)\n",
    "cv2.waitKey(0)\n",
    "cv2.destroyAllWindows()"
   ]
  },
  {
   "cell_type": "markdown",
   "id": "dc660470-7a61-4ba2-a3e7-bb8a2f4b6bb9",
   "metadata": {},
   "source": [
    "### 2. Blending of Images"
   ]
  },
  {
   "cell_type": "code",
   "execution_count": null,
   "id": "ec4a9b28-532b-49cd-8035-d2e3617ed000",
   "metadata": {},
   "outputs": [],
   "source": [
    "This is likewise image addition, but the images are given varied weights to create the illusion of blending or transparency. \n",
    "The first image weights 0.8, whereas the second image has a weight of 0.2"
   ]
  },
  {
   "cell_type": "code",
   "execution_count": 4,
   "id": "ce3eef8d-0f6f-4bc7-b885-b409434606f4",
   "metadata": {},
   "outputs": [],
   "source": [
    "import cv2\n",
    "import numpy as np"
   ]
  },
  {
   "cell_type": "code",
   "execution_count": 6,
   "id": "6386c50c-8477-4978-86ef-aba619110a62",
   "metadata": {},
   "outputs": [],
   "source": [
    "img1 = cv2.imread('D:/image_examples/milky-way-5295160_640.jpg') \n",
    "img2=cv2.imread('D:/image_examples/sun-1837376_640.png')\n",
    "img1 = cv2.resize(img1, (512, 512))\n",
    "img2 = cv2.resize(img2, (512 ,512))\n",
    "\n",
    "blended_image = cv2.addWeighted(img1, 0.8,img2, 0.2, 0)\n",
    "cv2.imshow('original first image', img1)\n",
    "cv2.imshow('original second image', img2)\n",
    "cv2.imshow('Blended Image', blended_image)\n",
    "cv2.waitKey(0)\n",
    "cv2.destroyAllWindows()"
   ]
  },
  {
   "cell_type": "markdown",
   "id": "f466b545-69f9-492d-919c-a844fdeb823c",
   "metadata": {},
   "source": [
    "### 3. subtraction of images "
   ]
  },
  {
   "cell_type": "code",
   "execution_count": null,
   "id": "cb1e9925-3c64-41a6-815c-c324ff39c7a9",
   "metadata": {},
   "outputs": [],
   "source": [
    "With cv2.subtract, we may subtract the pixel values from two images and merge them . \n",
    "The images must be the same size and depth. "
   ]
  },
  {
   "cell_type": "code",
   "execution_count": 59,
   "id": "3732b851-020a-423b-8096-02adf1155f06",
   "metadata": {},
   "outputs": [],
   "source": [
    "img1 = cv2.imread('D:/image_examples/milky-way-5295160_640.jpg') \n",
    "img2=cv2.imread('D:/image_examples/sun-1837376_640.png')\n",
    "img1 = cv2.resize(img1, (512, 512))\n",
    "img2 = cv2.resize(img2, (512 ,512))\n",
    "\n",
    "substract_image = cv2.subtract(img1,img2)\n",
    "cv2.imshow('original first image', img1)\n",
    "cv2.imshow('original second image', img2)\n",
    "cv2.imshow('Blended Image', substract_image)\n",
    "cv2.waitKey(0)\n",
    "cv2.destroyAllWindows()"
   ]
  },
  {
   "cell_type": "markdown",
   "id": "950a6553-9925-4f11-a5d7-4c33386c4fd6",
   "metadata": {},
   "source": [
    "### 4. Multiplication of Images"
   ]
  },
  {
   "cell_type": "raw",
   "id": "133acbc8-db06-420f-8cfa-9d72f2a50d1e",
   "metadata": {},
   "source": [
    "Multiplication is used in computer vision to scale images and perform transformations \n",
    "such as rotation and scaling.\n",
    "Using the cv2.multiply() function, we achieve picture scaling by multiplying the first image by 0.5. \n",
    "The cv2.multiply() function performs element-wise multiplication of the image's pixel values."
   ]
  },
  {
   "cell_type": "code",
   "execution_count": 61,
   "id": "716abab9-97f5-43bb-9980-ccb4077a1a38",
   "metadata": {},
   "outputs": [],
   "source": [
    "img1 = cv2.imread('D:/image_examples/milky-way-5295160_640.jpg') \n",
    "img1 = cv2.resize(img1, (300,300))\n",
    "scaling_factor = 0.5\n",
    "scaled_image= cv2.multiply(img1, np.array([scaling_factor])) \n",
    "cv2.imshow('Input image', img1)\n",
    "cv2.imshow('Scaled image', scaled_image)\n",
    "cv2.waitKey(0)\n",
    "cv2.destroyAllWindows()"
   ]
  },
  {
   "cell_type": "markdown",
   "id": "6419dc12-4e77-4378-a458-19894e26119c",
   "metadata": {},
   "source": [
    "### 5. Division of Images"
   ]
  },
  {
   "cell_type": "raw",
   "id": "9d74b06d-7fb8-462e-a577-2b04b2157a2b",
   "metadata": {},
   "source": [
    "division is used for image normalization and contrast adjustment. \n",
    "It is also employed in several feature extraction methods.\n",
    "Normalization involves adjusting the range of pixel intensity values in an image."
   ]
  },
  {
   "cell_type": "code",
   "execution_count": 67,
   "id": "3521124e-daeb-40f9-946a-fa283a95f1ad",
   "metadata": {},
   "outputs": [],
   "source": [
    "img1 = cv2.imread('D:/image_examples/sky-501350_1280.jpg') \n",
    "img1 = cv2.resize(img1, (300,300))\n",
    "#normalization\n",
    "normalized_image = cv2.divide(img1, 0)\n",
    "cv2.imshow('Input image', img1)\n",
    "cv2.imshow('Normalized image', normalized_image)\n",
    "cv2.waitKey(0)\n",
    "cv2.destroyAllWindows()"
   ]
  },
  {
   "cell_type": "markdown",
   "id": "0c3fbc6b-7f93-4562-b9ef-68ccd6043336",
   "metadata": {},
   "source": [
    "## Annotating Images"
   ]
  },
  {
   "cell_type": "raw",
   "id": "59d2468f-7418-4176-96d1-be384026b71d",
   "metadata": {},
   "source": [
    "1. Annotate an Image With a Color Line\n",
    "2. Draw a Circle Over an Image\n",
    "3. Overlay an Image With a Filled Circle\n",
    "4. Annotate Images with Rectangles\n",
    "5. Draw Ellipses on Images\n",
    "6. Annotate Images With Text Using Different Font Faces and Styles"
   ]
  },
  {
   "cell_type": "code",
   "execution_count": 1,
   "id": "16f11b02-4b47-4723-bd9a-d37f40925d7d",
   "metadata": {},
   "outputs": [],
   "source": [
    "import cv2\n",
    "# Read Images\n",
    "img = cv2.imread('D:/image_examples/dog.jpg')\n",
    "# Display Image\n",
    "cv2.imshow('Original Image',img)\n",
    "cv2.waitKey(0)\n",
    "# Print error message if image is null\n",
    "if img is None:\n",
    "    print('Could not read image')\n"
   ]
  },
  {
   "cell_type": "code",
   "execution_count": 3,
   "id": "58df2db5-ce2c-4167-b6b1-2473c5b7b45e",
   "metadata": {},
   "outputs": [
    {
     "data": {
      "text/plain": [
       "(640, 427, 3)"
      ]
     },
     "execution_count": 3,
     "metadata": {},
     "output_type": "execute_result"
    }
   ],
   "source": [
    "img.shape"
   ]
  },
  {
   "cell_type": "markdown",
   "id": "2831d3e7-cb50-4cc2-952c-56e1d9bb8382",
   "metadata": {},
   "source": [
    "### Draw a Line"
   ]
  },
  {
   "cell_type": "markdown",
   "id": "4caf8ae3-e53a-45c4-b2d1-f2ef17776642",
   "metadata": {},
   "source": [
    "line(image, start_point, end_point, color, thickness)"
   ]
  },
  {
   "cell_type": "code",
   "execution_count": 5,
   "id": "e2dd1531-808d-4bec-9d04-7adad4fca22a",
   "metadata": {},
   "outputs": [
    {
     "data": {
      "text/plain": [
       "-1"
      ]
     },
     "execution_count": 5,
     "metadata": {},
     "output_type": "execute_result"
    }
   ],
   "source": [
    "# Draw line on image\n",
    "imageLine = img.copy()\n",
    "#Draw the image from point A to B\n",
    "pointA = (80,80)\n",
    "pointB = (300,80)\n",
    "cv2.line(imageLine, pointA, pointB, (0, 255, 0), thickness=3, lineType=cv2.LINE_AA)\n",
    "cv2.imshow('Image Line', imageLine)\n",
    "cv2.waitKey(0)"
   ]
  },
  {
   "cell_type": "markdown",
   "id": "b7739ebf-3731-4447-a6db-6f1f55755643",
   "metadata": {},
   "source": [
    "### Draw a Circle"
   ]
  },
  {
   "cell_type": "markdown",
   "id": "87ac5a9c-90ea-4c43-8d6b-7cf1436903d5",
   "metadata": {},
   "source": [
    "circle(image, center_coordinates, radius, color, thickness)"
   ]
  },
  {
   "cell_type": "code",
   "execution_count": 7,
   "id": "b7999606-f9f8-4081-8e96-3857dd50b751",
   "metadata": {},
   "outputs": [
    {
     "data": {
      "text/plain": [
       "-1"
      ]
     },
     "execution_count": 7,
     "metadata": {},
     "output_type": "execute_result"
    }
   ],
   "source": [
    "# Make a copy of image\n",
    "imageCircle = img.copy()\n",
    "# define the center of circle\n",
    "circle_center = (170,200)\n",
    "# define the radius of the circle\n",
    "radius =100\n",
    "#  Draw a circle using the circle() Function\n",
    "cv2.circle(imageCircle, circle_center, radius, (0, 0, 255), thickness=3, lineType=cv2.LINE_AA) \n",
    "# Display the result\n",
    "cv2.imshow(\"Image Circle\",imageCircle)\n",
    "cv2.waitKey(0)"
   ]
  },
  {
   "cell_type": "markdown",
   "id": "bd477aa7-bada-4bca-b10b-8557cebc98ad",
   "metadata": {},
   "source": [
    "### Draw a Filled Circle"
   ]
  },
  {
   "cell_type": "code",
   "execution_count": 9,
   "id": "4bc6ffa7-dd0f-49a2-8da9-18ba85e448d9",
   "metadata": {},
   "outputs": [
    {
     "data": {
      "text/plain": [
       "-1"
      ]
     },
     "execution_count": 9,
     "metadata": {},
     "output_type": "execute_result"
    }
   ],
   "source": [
    "# make a copy of the original image\n",
    "imageFilledCircle = img.copy()\n",
    "# define center of the circle \n",
    "circle_center = (170,200)\n",
    "# define the radius of the circle\n",
    "radius =100\n",
    "# draw the filled circle on input image \n",
    "#to fill this circle with a solid color...Just change the thickness argument to -1\n",
    "cv2.circle(imageFilledCircle, circle_center, radius, (255, 0, 0), thickness=-1, lineType=cv2.LINE_AA)\n",
    "# display the output image \n",
    "cv2.imshow('Image with Filled Circle',imageFilledCircle)\n",
    "cv2.waitKey(0)"
   ]
  },
  {
   "cell_type": "markdown",
   "id": "dede4fdf-7b91-4c78-afe3-b040b433f4ca",
   "metadata": {},
   "source": [
    "### Draw a Rectangle"
   ]
  },
  {
   "cell_type": "markdown",
   "id": "edabcfef-4ef3-4d4c-a7e8-a4bb0b6e85c5",
   "metadata": {},
   "source": [
    "rectangle(image, start_point, end_point, color, thickness)"
   ]
  },
  {
   "cell_type": "code",
   "execution_count": 11,
   "id": "bd5c6b14-0ed2-4c77-9db4-c3a99f75d49d",
   "metadata": {},
   "outputs": [
    {
     "data": {
      "text/plain": [
       "-1"
      ]
     },
     "execution_count": 11,
     "metadata": {},
     "output_type": "execute_result"
    }
   ],
   "source": [
    "# make a copy of the original image\n",
    "imageRectangle = img.copy()\n",
    "# define the starting and end points of the rectangle\n",
    "start_point =(90,90)\n",
    "end_point =(300,300)\n",
    "# draw the rectangle\n",
    "cv2.rectangle(imageRectangle, start_point, end_point, (0, 0, 255), thickness= 3, lineType=cv2.LINE_8) \n",
    "# display the output\n",
    "cv2.imshow('imageRectangle', imageRectangle)\n",
    "cv2.waitKey(0)"
   ]
  },
  {
   "cell_type": "markdown",
   "id": "bc29892d-3ec0-448c-91a6-4ee178dea585",
   "metadata": {},
   "source": [
    "## Draw an Ellipse"
   ]
  },
  {
   "cell_type": "markdown",
   "id": "5d7eb056-63e8-45b3-8368-5e969edb72ed",
   "metadata": {},
   "source": [
    "ellipse(image, centerCoordinates, axesLength, angle, startAngle, endAngle, color, thickness)"
   ]
  },
  {
   "cell_type": "code",
   "execution_count": 13,
   "id": "9cb0f57d-846c-4e08-bb6d-d581d300a07b",
   "metadata": {},
   "outputs": [],
   "source": [
    "# make a copy of the original image\n",
    "imageEllipse = img.copy()\n",
    "# define the center point of ellipse\n",
    "ellipse_center = (190,190)\n",
    "# define the major and minor axes of the ellipse\n",
    "axis1 = (100,50)\n",
    "axis2 = (125,50)\n",
    "# draw the ellipse\n",
    "#Horizontal\n",
    "cv2.ellipse(imageEllipse, ellipse_center, axis1, 0, 0, 360, (255, 0, 0), thickness=3)\n",
    "#Vertical\n",
    "cv2.ellipse(imageEllipse, ellipse_center, axis2, 90, 0, 360, (0, 0, 255), thickness=3)\n",
    "# display the output\n",
    "cv2.imshow('ellipse Image',imageEllipse)\n",
    "cv2.waitKey(0)\n",
    "cv2.destroyAllWindows()"
   ]
  },
  {
   "cell_type": "markdown",
   "id": "450eac16-ee86-499b-a292-984d3e8f94f8",
   "metadata": {},
   "source": [
    "## Adding Text"
   ]
  },
  {
   "cell_type": "markdown",
   "id": "bb9ab60f-01c3-40ea-8a44-d0b2c3a3ff25",
   "metadata": {},
   "source": [
    "putText(image, text, org, font, fontScale, color)\n",
    "\n",
    "the first argument is the input image.\n",
    "    \n",
    "The next argument is the actual text string that we want to annotate the image with.\n",
    "\n",
    "The third argument specifies the starting location for the top left corner of the text string.\n",
    "    \n",
    "The next two arguments specify the font style and scale."
   ]
  },
  {
   "cell_type": "raw",
   "id": "9671f3dc-9d01-4787-abbf-bfbb653f7853",
   "metadata": {},
   "source": [
    "OpenCV supports several font-face styles from the Hershey font collection, and an italic font as well. \n",
    "\n",
    "  FONT_HERSHEY_SIMPLEX        = 0,\n",
    "  FONT_HERSHEY_PLAIN          = 1,\n",
    "  FONT_HERSHEY_DUPLEX         = 2,\n",
    "  FONT_HERSHEY_COMPLEX        = 3,\n",
    "  FONT_HERSHEY_TRIPLEX        = 4,\n",
    "  FONT_HERSHEY_COMPLEX_SMALL  = 5,\n",
    "  FONT_HERSHEY_SCRIPT_SIMPLEX = 6,\n",
    "  FONT_HERSHEY_SCRIPT_COMPLEX = 7,\n",
    "  FONT_ITALIC                 = 16"
   ]
  },
  {
   "cell_type": "code",
   "execution_count": 19,
   "id": "c66524d2-430d-4eeb-a569-0a7341cc6087",
   "metadata": {},
   "outputs": [],
   "source": [
    "# make a copy of the original image\n",
    "imageText = img.copy()   \n",
    "#let's write the text you want to put on the image  #cv2.FONT_HERSHEY_COMPLEX\n",
    "text = 'I am a Happy dog!'\n",
    "#org: Where you want to put the text  or specifies the starting location for the top left corner of the text string\n",
    "org = (10,400)\n",
    "# write the text on the input image\n",
    "cv2.putText(imageText, text, org, fontFace =4, fontScale = 1.0, color = (150,150,120))\n",
    "# display the output image with text over it\n",
    "cv2.imshow(\"Image Text\",imageText)\n",
    "cv2.waitKey(0)\n",
    "cv2.destroyAllWindows()\n"
   ]
  }
 ],
 "metadata": {
  "kernelspec": {
   "display_name": "Python 3 (ipykernel)",
   "language": "python",
   "name": "python3"
  },
  "language_info": {
   "codemirror_mode": {
    "name": "ipython",
    "version": 3
   },
   "file_extension": ".py",
   "mimetype": "text/x-python",
   "name": "python",
   "nbconvert_exporter": "python",
   "pygments_lexer": "ipython3",
   "version": "3.11.7"
  }
 },
 "nbformat": 4,
 "nbformat_minor": 5
}
